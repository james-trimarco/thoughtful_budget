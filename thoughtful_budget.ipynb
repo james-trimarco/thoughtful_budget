{
 "cells": [
  {
   "cell_type": "code",
   "execution_count": 43,
   "id": "7aca5817",
   "metadata": {},
   "outputs": [],
   "source": [
    "import pandas as pd\n",
    "from pathlib import Path\n",
    "from pandas.tseries.offsets import MonthEnd\n",
    "import numpy as np"
   ]
  },
  {
   "cell_type": "code",
   "execution_count": 44,
   "id": "ad43d6f9",
   "metadata": {},
   "outputs": [],
   "source": [
    "monthly_path = Path.cwd() / \"data\" / \"monthly.csv\"\n",
    "dtypes = {\n",
    "    \"category\": str,\n",
    "    \"expense_type\": str,\n",
    "    \"broad_type\": str,\n",
    "    \"actuals\": float,\n",
    "    \"to_month\": str,\n",
    "    \"to_year\": str,\n",
    "    \"monthly_expected\": float\n",
    "}\n",
    "monthly = pd.read_csv(monthly_path, dtype=dtypes)"
   ]
  },
  {
   "cell_type": "code",
   "execution_count": 63,
   "id": "2111cc99",
   "metadata": {},
   "outputs": [
    {
     "name": "stdout",
     "output_type": "stream",
     "text": [
      "<class 'pandas.core.frame.DataFrame'>\n",
      "RangeIndex: 27 entries, 0 to 26\n",
      "Data columns (total 7 columns):\n",
      " #   Column            Non-Null Count  Dtype  \n",
      "---  ------            --------------  -----  \n",
      " 0   category          27 non-null     object \n",
      " 1   expense_type      27 non-null     object \n",
      " 2   broad_type        27 non-null     object \n",
      " 3   actuals           24 non-null     float64\n",
      " 4   to_month          22 non-null     object \n",
      " 5   to_year           22 non-null     object \n",
      " 6   monthly_expected  18 non-null     float64\n",
      "dtypes: float64(2), object(5)\n",
      "memory usage: 1.6+ KB\n"
     ]
    }
   ],
   "source": [
    "monthly.info()"
   ]
  },
  {
   "cell_type": "code",
   "execution_count": 64,
   "id": "8c82e1c3",
   "metadata": {},
   "outputs": [],
   "source": [
    "import math\n",
    "\n",
    "\n",
    "def render_date(df):\n",
    "    df = df.rename(columns={\"to_month\": \"month\", \"to_year\": \"year\"})\n",
    "    df[\"to_date\"] = pd.to_datetime(df[[\"year\", \"month\"]].assign(DAY=1), errors=\"ignore\")\n",
    "    df[\"to_date\"] = df[\"to_date\"] + MonthEnd(1)\n",
    "    df = df.drop(columns=[\"month\", \"year\"])\n",
    "    return df\n",
    "\n",
    "\n",
    "def count_months(row):\n",
    "    row[\"last_month_of_year\"] = row[\"to_date\"].replace(month=12) + MonthEnd(0)\n",
    "    row[\"remaining_months\"] = (\n",
    "        row[\"last_month_of_year\"] - row[\"to_date\"]\n",
    "    ) / np.timedelta64(1, \"M\")\n",
    "    row[\"remaining_months\"] = (\n",
    "        int(row[\"remaining_months\"])\n",
    "        if not math.isnan(row[\"remaining_months\"])\n",
    "        else np.nan\n",
    "    )\n",
    "    row = row.drop(columns=[\"last_month_of_year\"])\n",
    "    return row\n",
    "\n",
    "\n",
    "def compute_totals(row):\n",
    "    row[\"expected_amount\"] = row[\"monthly_expected\"] * row[\"remaining_months\"]\n",
    "    if math.isnan(row[\"actuals\"]):\n",
    "        row[\"total\"] = row[\"expected_amount\"]\n",
    "    elif math.isnan(row[\"expected_amount\"]):\n",
    "        row[\"total\"] = row[\"actuals\"]\n",
    "    else:\n",
    "        row[\"total\"] = row[\"actuals\"] + row[\"expected_amount\"]\n",
    "    return row\n",
    "\n",
    "\n",
    "df_dates = render_date(monthly)\n",
    "df_count = df_dates.apply(count_months, axis=1)\n",
    "test = df_count.apply(compute_totals, axis=1)"
   ]
  },
  {
   "cell_type": "code",
   "execution_count": null,
   "id": "0f3579e2",
   "metadata": {},
   "outputs": [],
   "source": []
  }
 ],
 "metadata": {
  "kernelspec": {
   "display_name": "Python 3",
   "language": "python",
   "name": "python3"
  },
  "language_info": {
   "codemirror_mode": {
    "name": "ipython",
    "version": 3
   },
   "file_extension": ".py",
   "mimetype": "text/x-python",
   "name": "python",
   "nbconvert_exporter": "python",
   "pygments_lexer": "ipython3",
   "version": "3.7.7"
  },
  "toc": {
   "base_numbering": 1,
   "nav_menu": {},
   "number_sections": true,
   "sideBar": true,
   "skip_h1_title": false,
   "title_cell": "Table of Contents",
   "title_sidebar": "Contents",
   "toc_cell": false,
   "toc_position": {},
   "toc_section_display": true,
   "toc_window_display": false
  }
 },
 "nbformat": 4,
 "nbformat_minor": 5
}
